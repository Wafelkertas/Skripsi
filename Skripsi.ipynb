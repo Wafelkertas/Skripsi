{
 "cells": [
  {
   "cell_type": "code",
   "execution_count": 12,
   "id": "grateful-performance",
   "metadata": {},
   "outputs": [],
   "source": [
    "import numpy as np\n",
    "import matplotlib.pyplot as plt\n",
    "import os \n",
    "import cv2\n",
    "import tensorflow as tf\n",
    "import PIL\n",
    "\n",
    "\n",
    "DATADIR = \"D:\\projectmachinelearning\\Skripsi\\images\"\n",
    "CATEGORIES = [\"Edible\", \"Inedible\", \"Poisonous\"]\n"
   ]
  },
  {
   "cell_type": "code",
   "execution_count": 31,
   "id": "closing-health",
   "metadata": {},
   "outputs": [
    {
     "name": "stdout",
     "output_type": "stream",
     "text": [
      "Found 3664 files belonging to 3 classes.\n",
      "Using 2932 files for training.\n",
      "Found 3664 files belonging to 3 classes.\n",
      "Using 732 files for validation.\n"
     ]
    }
   ],
   "source": [
    "batch_size = 32\n",
    "img_height = 180\n",
    "img_width = 180\n",
    "\n",
    "train_ds = tf.keras.preprocessing.image_dataset_from_directory(\n",
    "    DATADIR,\n",
    "    validation_split=0.2,\n",
    "    subset='training',\n",
    "    seed=123,\n",
    "    image_size=(img_height,img_width),\n",
    "    batch_size=batch_size)\n",
    "\n",
    "val_ds = tf.keras.preprocessing.image_dataset_from_directory(\n",
    "    DATADIR,\n",
    "    validation_split=0.2,\n",
    "    subset='validation',\n",
    "    seed=123,\n",
    "    image_size=(img_height, img_width),\n",
    "    batch_size=batch_size)"
   ]
  },
  {
   "cell_type": "code",
   "execution_count": 35,
   "id": "chinese-drill",
   "metadata": {},
   "outputs": [
    {
     "ename": "AttributeError",
     "evalue": "'BatchDataset' object has no attribute 'labels'",
     "output_type": "error",
     "traceback": [
      "\u001b[1;31m---------------------------------------------------------------------------\u001b[0m",
      "\u001b[1;31mAttributeError\u001b[0m                            Traceback (most recent call last)",
      "\u001b[1;32m<ipython-input-35-64b5fb3fbeb2>\u001b[0m in \u001b[0;36m<module>\u001b[1;34m\u001b[0m\n\u001b[1;32m----> 1\u001b[1;33m \u001b[0mclass_name\u001b[0m \u001b[1;33m=\u001b[0m \u001b[0mval_ds\u001b[0m\u001b[1;33m.\u001b[0m\u001b[0mlabels\u001b[0m\u001b[1;33m\u001b[0m\u001b[1;33m\u001b[0m\u001b[0m\n\u001b[0m\u001b[0;32m      2\u001b[0m \u001b[1;33m\u001b[0m\u001b[0m\n\u001b[0;32m      3\u001b[0m \u001b[0mprint\u001b[0m\u001b[1;33m(\u001b[0m\u001b[0mclass_name\u001b[0m\u001b[1;33m)\u001b[0m\u001b[1;33m\u001b[0m\u001b[1;33m\u001b[0m\u001b[0m\n",
      "\u001b[1;31mAttributeError\u001b[0m: 'BatchDataset' object has no attribute 'labels'"
     ]
    }
   ],
   "source": [
    "class_name = val_ds.class_names\n",
    "\n",
    "print(class_name)"
   ]
  },
  {
   "cell_type": "code",
   "execution_count": 15,
   "id": "identical-philippines",
   "metadata": {},
   "outputs": [],
   "source": [
    "AUTOTUNE = tf.data.AUTOTUNE\n",
    "\n",
    "train_ds = train_ds.cache().shuffle(1000).prefetch(buffer_size=AUTOTUNE)\n",
    "val_ds = val_ds.cache().shuffle(1000).prefetch(buffer_size=AUTOTUNE)"
   ]
  },
  {
   "cell_type": "code",
   "execution_count": 16,
   "id": "hundred-detroit",
   "metadata": {},
   "outputs": [],
   "source": [
    "from tensorflow import keras\n",
    "from tensorflow.keras import layers\n",
    "\n"
   ]
  },
  {
   "cell_type": "code",
   "execution_count": 17,
   "id": "russian-fifteen",
   "metadata": {},
   "outputs": [],
   "source": [
    "normalization_layer = layers.experimental.preprocessing.Rescaling(1./255)"
   ]
  },
  {
   "cell_type": "code",
   "execution_count": 18,
   "id": "opening-extent",
   "metadata": {},
   "outputs": [],
   "source": [
    "num_classes = 3\n",
    "\n",
    "model = tf.keras.models.Sequential([\n",
    "  layers.experimental.preprocessing.Rescaling(1./255, input_shape=(img_height, img_width, 3)),\n",
    "  layers.Conv2D(16, 3, padding='same', activation='relu'),\n",
    "  layers.MaxPooling2D(),\n",
    "  layers.Conv2D(32, 3, padding='same', activation='relu'),\n",
    "  layers.MaxPooling2D(),\n",
    "  layers.Conv2D(64, 3, padding='same', activation='relu'),\n",
    "  layers.MaxPooling2D(),\n",
    "  layers.Flatten(),\n",
    "  layers.Dense(128, activation='relu'),\n",
    "  layers.Dense(num_classes)\n",
    "])\n",
    "\n",
    "# model = tf.keras.models.Sequential([\n",
    "#     layers.experimental.preprocessing.Rescaling(1./255, input_shape=(img_height, img_width, 3)),\n",
    "# \tlayers.Conv2D(32, (3,3), activation='relu', input_shape=(150,150,3)),\n",
    "# \tlayers.MaxPooling2D(2,2),\n",
    "# \tlayers.Conv2D(64, (3,3), activation='relu'),\n",
    "# \tlayers.MaxPooling2D(2,2),\n",
    "# \tlayers.Conv2D(128, (3,3), activation='relu'),\n",
    "# \tlayers.MaxPooling2D(2,2),\n",
    "# \tlayers.Conv2D(128, (3,3), activation='relu'),\n",
    "# \tlayers.MaxPooling2D(2,2),\n",
    "# \tlayers.Dropout(0.5),\n",
    "# \tlayers.Flatten(),\n",
    "# \tlayers.Dense(512, activation='relu'),\n",
    "# \tlayers.Dense(1, activation='sigmoid')\n",
    "# \t])"
   ]
  },
  {
   "cell_type": "code",
   "execution_count": 19,
   "id": "opponent-russia",
   "metadata": {},
   "outputs": [],
   "source": [
    "model.compile(optimizer='adam',\n",
    "             loss=tf.keras.losses.SparseCategoricalCrossentropy(from_logits=True),\n",
    "             metrics=['accuracy'])"
   ]
  },
  {
   "cell_type": "code",
   "execution_count": 20,
   "id": "marine-frederick",
   "metadata": {},
   "outputs": [
    {
     "name": "stdout",
     "output_type": "stream",
     "text": [
      "Model: \"sequential_1\"\n",
      "_________________________________________________________________\n",
      "Layer (type)                 Output Shape              Param #   \n",
      "=================================================================\n",
      "rescaling_3 (Rescaling)      (None, 180, 180, 3)       0         \n",
      "_________________________________________________________________\n",
      "conv2d_3 (Conv2D)            (None, 180, 180, 16)      448       \n",
      "_________________________________________________________________\n",
      "max_pooling2d_3 (MaxPooling2 (None, 90, 90, 16)        0         \n",
      "_________________________________________________________________\n",
      "conv2d_4 (Conv2D)            (None, 90, 90, 32)        4640      \n",
      "_________________________________________________________________\n",
      "max_pooling2d_4 (MaxPooling2 (None, 45, 45, 32)        0         \n",
      "_________________________________________________________________\n",
      "conv2d_5 (Conv2D)            (None, 45, 45, 64)        18496     \n",
      "_________________________________________________________________\n",
      "max_pooling2d_5 (MaxPooling2 (None, 22, 22, 64)        0         \n",
      "_________________________________________________________________\n",
      "flatten_1 (Flatten)          (None, 30976)             0         \n",
      "_________________________________________________________________\n",
      "dense_2 (Dense)              (None, 128)               3965056   \n",
      "_________________________________________________________________\n",
      "dense_3 (Dense)              (None, 3)                 387       \n",
      "=================================================================\n",
      "Total params: 3,989,027\n",
      "Trainable params: 3,989,027\n",
      "Non-trainable params: 0\n",
      "_________________________________________________________________\n"
     ]
    }
   ],
   "source": [
    "model.summary()"
   ]
  },
  {
   "cell_type": "code",
   "execution_count": 21,
   "id": "incorrect-hydrogen",
   "metadata": {},
   "outputs": [
    {
     "name": "stdout",
     "output_type": "stream",
     "text": [
      "Epoch 1/10\n",
      "92/92 [==============================] - 55s 401ms/step - loss: 1.1373 - accuracy: 0.3467 - val_loss: 1.0818 - val_accuracy: 0.4208\n",
      "Epoch 2/10\n",
      "92/92 [==============================] - 28s 299ms/step - loss: 1.0501 - accuracy: 0.4461 - val_loss: 0.9946 - val_accuracy: 0.5123\n",
      "Epoch 3/10\n",
      "92/92 [==============================] - 27s 298ms/step - loss: 0.9162 - accuracy: 0.5690 - val_loss: 0.7588 - val_accuracy: 0.6735\n",
      "Epoch 4/10\n",
      "92/92 [==============================] - 27s 299ms/step - loss: 0.6072 - accuracy: 0.7570 - val_loss: 0.5766 - val_accuracy: 0.7664\n",
      "Epoch 5/10\n",
      "92/92 [==============================] - 28s 302ms/step - loss: 0.3221 - accuracy: 0.8887 - val_loss: 0.4943 - val_accuracy: 0.7896\n",
      "Epoch 6/10\n",
      "92/92 [==============================] - 28s 302ms/step - loss: 0.1793 - accuracy: 0.9368 - val_loss: 0.4680 - val_accuracy: 0.8429\n",
      "Epoch 7/10\n",
      "92/92 [==============================] - 28s 299ms/step - loss: 0.0701 - accuracy: 0.9815 - val_loss: 0.5556 - val_accuracy: 0.8415\n",
      "Epoch 8/10\n",
      "92/92 [==============================] - 28s 301ms/step - loss: 0.0301 - accuracy: 0.9925 - val_loss: 0.6621 - val_accuracy: 0.8511\n",
      "Epoch 9/10\n",
      "92/92 [==============================] - 28s 304ms/step - loss: 0.0129 - accuracy: 0.9983 - val_loss: 0.7114 - val_accuracy: 0.8525\n",
      "Epoch 10/10\n",
      "92/92 [==============================] - 28s 302ms/step - loss: 0.0025 - accuracy: 1.0000 - val_loss: 0.7822 - val_accuracy: 0.8525\n"
     ]
    }
   ],
   "source": [
    "epochs =10\n",
    "\n",
    "history = model.fit(\n",
    "    train_ds,\n",
    "    validation_data=val_ds,\n",
    "    epochs=epochs)"
   ]
  },
  {
   "cell_type": "code",
   "execution_count": 22,
   "id": "posted-xerox",
   "metadata": {},
   "outputs": [
    {
     "data": {
      "image/png": "[encoded data removed]",
      "text/plain": [
       "<Figure size 576x576 with 2 Axes>"
      ]
     },
     "metadata": {
      "needs_background": "light"
     },
     "output_type": "display_data"
    }
   ],
   "source": [
    "acc = history.history['accuracy']\n",
    "val_acc = history.history['val_accuracy']\n",
    "\n",
    "loss = history.history['loss']\n",
    "val_loss = history.history['val_loss']\n",
    "\n",
    "epochs_range = range(epochs)\n",
    "\n",
    "plt.figure(figsize=(8, 8))\n",
    "plt.subplot(1, 2, 1)\n",
    "plt.plot(epochs_range, acc, label='Training Accuracy')\n",
    "plt.plot(epochs_range, val_acc, label='Validation Accuracy')\n",
    "plt.legend(loc='lower right')\n",
    "plt.title('Training and Validation Accuracy')\n",
    "\n",
    "plt.subplot(1, 2, 2)\n",
    "plt.plot(epochs_range, loss, label='Training Loss')\n",
    "plt.plot(epochs_range, val_loss, label='Validation Loss')\n",
    "plt.legend(loc='upper right')\n",
    "plt.title('Training and Validation Loss')\n",
    "plt.show()"
   ]
  },
  {
   "cell_type": "code",
   "execution_count": 39,
   "id": "assured-dream",
   "metadata": {},
   "outputs": [
    {
     "name": "stdout",
     "output_type": "stream",
     "text": [
      "23/23 [==============================] - 3s 97ms/step - loss: 0.7822 - accuracy: 0.8525\n",
      "0.782220721244812\n",
      "0.8524590134620667\n"
     ]
    }
   ],
   "source": [
    "loss, accuracy = model.evaluate(val_ds)\n",
    "print(loss)\n",
    "print(accuracy)"
   ]
  },
  {
   "cell_type": "code",
   "execution_count": 102,
   "id": "constitutional-marks",
   "metadata": {},
   "outputs": [
    {
     "name": "stdout",
     "output_type": "stream",
     "text": [
      "23/23 [==============================] - 3s 97ms/step - loss: 0.7822 - accuracy: 0.8525\n"
     ]
    },
    {
     "data": {
      "text/plain": [
       "[0.7822205424308777, 0.8524590134620667]"
      ]
     },
     "execution_count": 102,
     "metadata": {},
     "output_type": "execute_result"
    }
   ],
   "source": [
    "model.evaluate(val_ds)"
   ]
  },
  {
   "cell_type": "code",
   "execution_count": null,
   "id": "supposed-vegetation",
   "metadata": {},
   "outputs": [],
   "source": []
  }
 ],
 "metadata": {
  "kernelspec": {
   "display_name": "Python 3",
   "language": "python",
   "name": "python3"
  },
  "language_info": {
   "codemirror_mode": {
    "name": "ipython",
    "version": 3
   },
   "file_extension": ".py",
   "mimetype": "text/x-python",
   "name": "python",
   "nbconvert_exporter": "python",
   "pygments_lexer": "ipython3",
   "version": "3.8.8"
  }
 },
 "nbformat": 4,
 "nbformat_minor": 5
}
